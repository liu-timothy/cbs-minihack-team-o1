{
 "cells": [
  {
   "cell_type": "code",
   "execution_count": 1,
   "metadata": {},
   "outputs": [],
   "source": [
    "from Bio import SeqIO\n",
    "import numpy as np\n",
    "import pandas as pd\n",
    "from sklearn.model_selection import train_test_split\n",
    "from sklearn.ensemble import RandomForestClassifier\n",
    "from sklearn.linear_model import LogisticRegression\n",
    "from sklearn.svm import SVC\n",
    "from sklearn.metrics import accuracy_score, classification_report"
   ]
  },
  {
   "cell_type": "code",
   "execution_count": 4,
   "metadata": {},
   "outputs": [
    {
     "ename": "KeyboardInterrupt",
     "evalue": "",
     "output_type": "error",
     "traceback": [
      "\u001b[0;31m---------------------------------------------------------------------------\u001b[0m",
      "\u001b[0;31mKeyboardInterrupt\u001b[0m                         Traceback (most recent call last)",
      "Cell \u001b[0;32mIn[4], line 32\u001b[0m\n\u001b[1;32m     30\u001b[0m \u001b[38;5;66;03m# Extract features and labels\u001b[39;00m\n\u001b[1;32m     31\u001b[0m accessible_features, accessible_labels \u001b[38;5;241m=\u001b[39m extract_features_from_fasta(\u001b[38;5;124m\"\u001b[39m\u001b[38;5;124maccessible.fasta\u001b[39m\u001b[38;5;124m\"\u001b[39m, kmers, \u001b[38;5;241m1\u001b[39m)\n\u001b[0;32m---> 32\u001b[0m not_accessible_features, not_accessible_labels \u001b[38;5;241m=\u001b[39m \u001b[43mextract_features_from_fasta\u001b[49m\u001b[43m(\u001b[49m\u001b[38;5;124;43m\"\u001b[39;49m\u001b[38;5;124;43mnotaccessible.fasta\u001b[39;49m\u001b[38;5;124;43m\"\u001b[39;49m\u001b[43m,\u001b[49m\u001b[43m \u001b[49m\u001b[43mkmers\u001b[49m\u001b[43m,\u001b[49m\u001b[43m \u001b[49m\u001b[38;5;241;43m0\u001b[39;49m\u001b[43m)\u001b[49m\n\u001b[1;32m     34\u001b[0m \u001b[38;5;66;03m# Combine data\u001b[39;00m\n\u001b[1;32m     35\u001b[0m X \u001b[38;5;241m=\u001b[39m accessible_features \u001b[38;5;241m+\u001b[39m not_accessible_features\n",
      "Cell \u001b[0;32mIn[4], line 22\u001b[0m, in \u001b[0;36mextract_features_from_fasta\u001b[0;34m(file, kmers, label)\u001b[0m\n\u001b[1;32m     20\u001b[0m \u001b[38;5;28;01mfor\u001b[39;00m record \u001b[38;5;129;01min\u001b[39;00m SeqIO\u001b[38;5;241m.\u001b[39mparse(file, \u001b[38;5;124m\"\u001b[39m\u001b[38;5;124mfasta\u001b[39m\u001b[38;5;124m\"\u001b[39m):\n\u001b[1;32m     21\u001b[0m     sequence \u001b[38;5;241m=\u001b[39m \u001b[38;5;28mstr\u001b[39m(record\u001b[38;5;241m.\u001b[39mseq)\u001b[38;5;241m.\u001b[39mupper()\n\u001b[0;32m---> 22\u001b[0m     features\u001b[38;5;241m.\u001b[39mappend(\u001b[43mget_kmer_freq\u001b[49m\u001b[43m(\u001b[49m\u001b[43msequence\u001b[49m\u001b[43m,\u001b[49m\u001b[43m \u001b[49m\u001b[43mkmers\u001b[49m\u001b[43m)\u001b[49m)\n\u001b[1;32m     23\u001b[0m     labels\u001b[38;5;241m.\u001b[39mappend(label)\n\u001b[1;32m     24\u001b[0m \u001b[38;5;28;01mreturn\u001b[39;00m features, labels\n",
      "Cell \u001b[0;32mIn[4], line 8\u001b[0m, in \u001b[0;36mget_kmer_freq\u001b[0;34m(sequence, kmers)\u001b[0m\n\u001b[1;32m      6\u001b[0m \u001b[38;5;28;01mdef\u001b[39;00m \u001b[38;5;21mget_kmer_freq\u001b[39m(sequence, kmers):\n\u001b[1;32m      7\u001b[0m \u001b[38;5;250m    \u001b[39m\u001b[38;5;124;03m\"\"\"Calculate k-mer frequencies for a sequence.\"\"\"\u001b[39;00m\n\u001b[0;32m----> 8\u001b[0m     kmer_freq \u001b[38;5;241m=\u001b[39m {kmer: \u001b[38;5;241m0\u001b[39m \u001b[38;5;28;01mfor\u001b[39;00m kmer \u001b[38;5;129;01min\u001b[39;00m kmers}\n\u001b[1;32m      9\u001b[0m     \u001b[38;5;28;01mfor\u001b[39;00m i \u001b[38;5;129;01min\u001b[39;00m \u001b[38;5;28mrange\u001b[39m(\u001b[38;5;28mlen\u001b[39m(sequence) \u001b[38;5;241m-\u001b[39m k \u001b[38;5;241m+\u001b[39m \u001b[38;5;241m1\u001b[39m):\n\u001b[1;32m     10\u001b[0m         kmer \u001b[38;5;241m=\u001b[39m sequence[i:i \u001b[38;5;241m+\u001b[39m k]\n",
      "Cell \u001b[0;32mIn[4], line 8\u001b[0m, in \u001b[0;36m<dictcomp>\u001b[0;34m(.0)\u001b[0m\n\u001b[1;32m      6\u001b[0m \u001b[38;5;28;01mdef\u001b[39;00m \u001b[38;5;21mget_kmer_freq\u001b[39m(sequence, kmers):\n\u001b[1;32m      7\u001b[0m \u001b[38;5;250m    \u001b[39m\u001b[38;5;124;03m\"\"\"Calculate k-mer frequencies for a sequence.\"\"\"\u001b[39;00m\n\u001b[0;32m----> 8\u001b[0m     kmer_freq \u001b[38;5;241m=\u001b[39m {kmer: \u001b[38;5;241m0\u001b[39m \u001b[38;5;28;01mfor\u001b[39;00m kmer \u001b[38;5;129;01min\u001b[39;00m kmers}\n\u001b[1;32m      9\u001b[0m     \u001b[38;5;28;01mfor\u001b[39;00m i \u001b[38;5;129;01min\u001b[39;00m \u001b[38;5;28mrange\u001b[39m(\u001b[38;5;28mlen\u001b[39m(sequence) \u001b[38;5;241m-\u001b[39m k \u001b[38;5;241m+\u001b[39m \u001b[38;5;241m1\u001b[39m):\n\u001b[1;32m     10\u001b[0m         kmer \u001b[38;5;241m=\u001b[39m sequence[i:i \u001b[38;5;241m+\u001b[39m k]\n",
      "\u001b[0;31mKeyboardInterrupt\u001b[0m: "
     ]
    }
   ],
   "source": [
    "def generate_kmers(k):\n",
    "    \"\"\"Generate all possible k-mers for a given k.\"\"\"\n",
    "    import itertools\n",
    "    return [''.join(p) for p in itertools.product('ACGT', repeat=k)]\n",
    "\n",
    "def get_kmer_freq(sequence, kmers):\n",
    "    \"\"\"Calculate k-mer frequencies for a sequence.\"\"\"\n",
    "    kmer_freq = {kmer: 0 for kmer in kmers}\n",
    "    for i in range(len(sequence) - k + 1):\n",
    "        kmer = sequence[i:i + k]\n",
    "        if kmer in kmer_freq:\n",
    "            kmer_freq[kmer] += 1\n",
    "    total = sum(kmer_freq.values())\n",
    "    return [freq / total for freq in kmer_freq.values()]\n",
    "\n",
    "def extract_features_from_fasta(file, kmers, label):\n",
    "    \"\"\"Extract k-mer features from fasta file.\"\"\"\n",
    "    features = []\n",
    "    labels = []\n",
    "    for record in SeqIO.parse(file, \"fasta\"):\n",
    "        sequence = str(record.seq).upper()\n",
    "        features.append(get_kmer_freq(sequence, kmers))\n",
    "        labels.append(label)\n",
    "    return features, labels\n",
    "\n",
    "# Define k-mer size\n",
    "k = 6  # example, can be adjusted\n",
    "kmers = generate_kmers(k)\n",
    "\n",
    "# Extract features and labels\n",
    "accessible_features, accessible_labels = extract_features_from_fasta(\"accessible.fasta\", kmers, 1)\n",
    "not_accessible_features, not_accessible_labels = extract_features_from_fasta(\"notaccessible.fasta\", kmers, 0)\n",
    "\n",
    "# Combine data\n",
    "X = accessible_features + not_accessible_features\n",
    "y = accessible_labels + not_accessible_labels\n",
    "\n",
    "# Convert to numpy arrays for ML models\n",
    "X = np.array(X)\n",
    "y = np.array(y)\n"
   ]
  },
  {
   "cell_type": "code",
   "execution_count": null,
   "metadata": {},
   "outputs": [],
   "source": [
    "# Split data\n",
    "X_train, X_test, y_train, y_test = train_test_split(X, y, test_size=0.2, random_state=42)"
   ]
  },
  {
   "cell_type": "code",
   "execution_count": null,
   "metadata": {},
   "outputs": [],
   "source": [
    "# Logistic Regression\n",
    "lr = LogisticRegression(max_iter=1000)\n",
    "lr.fit(X_train, y_train)\n",
    "\n",
    "# Random Forest\n",
    "rf = RandomForestClassifier(n_estimators=100)\n",
    "rf.fit(X_train, y_train)\n",
    "\n",
    "# Support Vector Machine\n",
    "svm = SVC()\n",
    "svm.fit(X_train, y_train)\n"
   ]
  },
  {
   "cell_type": "code",
   "execution_count": null,
   "metadata": {},
   "outputs": [],
   "source": [
    "# Evaluate models\n",
    "for model in [lr, rf, svm]:\n",
    "    y_pred = model.predict(X_test)\n",
    "    print(f\"{model.__class__.__name__} Accuracy: {accuracy_score(y_test, y_pred)}\")\n",
    "    print(f\"Classification Report:\\n{classification_report(y_test, y_pred)}\")\n"
   ]
  },
  {
   "cell_type": "markdown",
   "metadata": {},
   "source": [
    "Test it on the unknown chromtain sites"
   ]
  },
  {
   "cell_type": "code",
   "execution_count": null,
   "metadata": {},
   "outputs": [],
   "source": [
    "# Extract features from test.fasta\n",
    "test_features, _ = extract_features_from_fasta(\"test.fasta\", kmers, None)  # Label is None as we don't have it\n",
    "test_features = np.array(test_features)\n"
   ]
  },
  {
   "cell_type": "code",
   "execution_count": null,
   "metadata": {},
   "outputs": [],
   "source": [
    "# Predict with each model\n",
    "def predict_and_save(model, features, filename):\n",
    "    predictions = model.predict(features)\n",
    "    pd.DataFrame(predictions, columns=['Predicted_Accessibility']).to_csv(filename, index=False)\n",
    "\n",
    "predict_and_save(lr, test_features, \"lr_predictions.csv\")\n",
    "predict_and_save(rf, test_features, \"rf_predictions.csv\")\n",
    "predict_and_save(svm, test_features, \"svm_predictions.csv\")\n"
   ]
  }
 ],
 "metadata": {
  "kernelspec": {
   "display_name": "minihack",
   "language": "python",
   "name": "python3"
  },
  "language_info": {
   "codemirror_mode": {
    "name": "ipython",
    "version": 3
   },
   "file_extension": ".py",
   "mimetype": "text/x-python",
   "name": "python",
   "nbconvert_exporter": "python",
   "pygments_lexer": "ipython3",
   "version": "3.8.18"
  }
 },
 "nbformat": 4,
 "nbformat_minor": 2
}
